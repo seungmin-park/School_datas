{
 "cells": [
  {
   "cell_type": "code",
   "execution_count": 1,
   "id": "a4e82728",
   "metadata": {},
   "outputs": [
    {
     "name": "stdout",
     "output_type": "stream",
     "text": [
      "img.ndim =  3\n",
      "img.shape =  (11440, 1920, 3)\n",
      "img.dtype =  uint8\n"
     ]
    }
   ],
   "source": [
    "import cv2\n",
    "\n",
    "img = cv2.imread('C:/Users/tmdla/Downloads/KakaoTalk_20220427_153605337.jpg')\n",
    "print('img.ndim = ', img.ndim)\n",
    "print('img.shape = ', img.shape)\n",
    "print('img.dtype = ', img.dtype)"
   ]
  },
  {
   "cell_type": "code",
   "execution_count": 5,
   "id": "240cdea9",
   "metadata": {},
   "outputs": [
    {
     "name": "stdout",
     "output_type": "stream",
     "text": [
      "(5720, 960, 3)\n"
     ]
    }
   ],
   "source": [
    "img = cv2.resize(img,(0,0), fx=0.5, fy=0.5)\n",
    "cv2.imwrite('test_half.jpg',img)\n",
    "print(img.shape)"
   ]
  },
  {
   "cell_type": "code",
   "execution_count": 9,
   "id": "ab3faec5",
   "metadata": {},
   "outputs": [
    {
     "name": "stdout",
     "output_type": "stream",
     "text": [
      "(5720, 960, 3)\n"
     ]
    }
   ],
   "source": [
    "img1 = cv2.imread('C:/repo/School_datas/2022-1/ai/code/test_half.jpg')\n",
    "gimg = cv2.cvtColor(img1, cv2.COLOR_BGR2GRAY)\n",
    "cv2.imwrite('test1_halfgray.jpg',gimg)\n",
    "print(img.shape)"
   ]
  }
 ],
 "metadata": {
  "kernelspec": {
   "display_name": "Python [conda env:py37] *",
   "language": "python",
   "name": "conda-env-py37-py"
  },
  "language_info": {
   "codemirror_mode": {
    "name": "ipython",
    "version": 3
   },
   "file_extension": ".py",
   "mimetype": "text/x-python",
   "name": "python",
   "nbconvert_exporter": "python",
   "pygments_lexer": "ipython3",
   "version": "3.7.13"
  }
 },
 "nbformat": 4,
 "nbformat_minor": 5
}
