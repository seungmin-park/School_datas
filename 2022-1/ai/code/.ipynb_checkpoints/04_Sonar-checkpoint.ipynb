{
 "cells": [
  {
   "cell_type": "code",
   "execution_count": null,
   "metadata": {},
   "outputs": [
    {
     "name": "stdout",
     "output_type": "stream",
     "text": [
      "Epoch 1/200\n",
      "208/208 [==============================] - 0s 785us/step - loss: 0.2449 - accuracy: 0.5673\n",
      "Epoch 2/200\n",
      "208/208 [==============================] - 0s 380us/step - loss: 0.2405 - accuracy: 0.5481\n",
      "Epoch 3/200\n",
      "208/208 [==============================] - 0s 365us/step - loss: 0.2270 - accuracy: 0.6202\n",
      "Epoch 4/200\n",
      "208/208 [==============================] - 0s 341us/step - loss: 0.2190 - accuracy: 0.6394\n",
      "Epoch 5/200\n",
      "208/208 [==============================] - 0s 288us/step - loss: 0.2103 - accuracy: 0.7019\n",
      "Epoch 6/200\n",
      "208/208 [==============================] - 0s 298us/step - loss: 0.2019 - accuracy: 0.7308\n",
      "Epoch 7/200\n",
      "208/208 [==============================] - 0s 365us/step - loss: 0.1941 - accuracy: 0.7212\n",
      "Epoch 8/200\n",
      "208/208 [==============================] - 0s 346us/step - loss: 0.1850 - accuracy: 0.7644\n",
      "Epoch 9/200\n",
      "  5/208 [..............................] - ETA: 0s - loss: 0.1394 - accuracy: 0.8000"
     ]
    }
   ],
   "source": [
    "from keras.models import Sequential\n",
    "from keras.layers.core import Dense\n",
    "from sklearn.preprocessing import LabelEncoder\n",
    "\n",
    "import pandas as pd\n",
    "import numpy\n",
    "import tensorflow as tf\n",
    "\n",
    "# seed 값 설정\n",
    "numpy.random.seed(3)\n",
    "tf.random.set_seed(3)\n",
    "\n",
    "# 데이터 입력\n",
    "df = pd.read_csv('./sonar.csv', header=None)\n",
    "'''\n",
    "# 데이터 개괄 보기\n",
    "print(df.info())\n",
    "\n",
    "# 데이터의 일부분 미리 보기\n",
    "print(df.head())\n",
    "'''\n",
    "dataset = df.values\n",
    "X = dataset[:,0:60]\n",
    "Y_obj = dataset[:,60]\n",
    "\n",
    "# 문자열 변환\n",
    "e = LabelEncoder()\n",
    "e.fit(Y_obj)\n",
    "Y = e.transform(Y_obj)\n",
    "\n",
    "# 모델 설정\n",
    "model = Sequential()\n",
    "model.add(Dense(24,  input_dim=60, activation='relu'))\n",
    "model.add(Dense(10, activation='relu'))\n",
    "model.add(Dense(1, activation='sigmoid'))\n",
    "\n",
    "# 모델 컴파일\n",
    "model.compile(loss='mean_squared_error',\n",
    "            optimizer='adam',\n",
    "            metrics=['accuracy'])\n",
    "\n",
    "# 모델 실행\n",
    "model.fit(X, Y, epochs=200, batch_size=5)\n",
    "\n",
    "# 결과 출력\n",
    "print(\"\\n Accuracy: %.4f\" % (model.evaluate(X, Y)[1]))\n"
   ]
  },
  {
   "cell_type": "code",
   "execution_count": null,
   "metadata": {},
   "outputs": [],
   "source": []
  }
 ],
 "metadata": {
  "kernelspec": {
   "display_name": "Python 3 (ipykernel)",
   "language": "python",
   "name": "python3"
  },
  "language_info": {
   "codemirror_mode": {
    "name": "ipython",
    "version": 3
   },
   "file_extension": ".py",
   "mimetype": "text/x-python",
   "name": "python",
   "nbconvert_exporter": "python",
   "pygments_lexer": "ipython3",
   "version": "3.7.13"
  }
 },
 "nbformat": 4,
 "nbformat_minor": 2
}
